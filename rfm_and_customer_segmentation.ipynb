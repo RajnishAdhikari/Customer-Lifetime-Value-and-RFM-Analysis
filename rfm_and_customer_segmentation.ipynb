{
 "cells": [
  {
   "cell_type": "markdown",
   "metadata": {},
   "source": [
    "## About data set\n",
    "\n",
    "There are 3 of datasets that we will use for the analysis:\n",
    "\n",
    "1. order_dataset\n",
    "order_id\n",
    "* customer_id\n",
    "* order_status\n",
    "* order_purchase_timestamp\n",
    "* order_approved_at\n",
    "* order_delivered_carrier_date\n",
    "* order_delivered_customer_date\n",
    "* order_estimated_delivery_date\n",
    "\n",
    "2. customers_dataset\n",
    "* customer_id\n",
    "* customer_unique_id\n",
    "* customer_zip_code_prefix\n",
    "* customer_city\n",
    "* customer_state\n",
    "\n",
    "3. order_payment_dataset\n",
    "* order_id\n",
    "* payment_sequential\n",
    "* payment_type\n",
    "* payment_installments\n",
    "* payment_value"
   ]
  },
  {
   "cell_type": "code",
   "execution_count": null,
   "metadata": {},
   "outputs": [],
   "source": []
  }
 ],
 "metadata": {
  "language_info": {
   "name": "python"
  }
 },
 "nbformat": 4,
 "nbformat_minor": 2
}
