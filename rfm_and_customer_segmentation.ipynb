{
 "cells": [
  {
   "cell_type": "markdown",
   "metadata": {},
   "source": [
    "## About data set\n",
    "\n",
    "There are 3 of datasets that we will use for the analysis:\n",
    "\n",
    "1. order_dataset\n",
    "order_id\n",
    "* customer_id\n",
    "* order_status\n",
    "* order_purchase_timestamp\n",
    "* order_approved_at\n",
    "* order_delivered_carrier_date\n",
    "* order_delivered_customer_date\n",
    "* order_estimated_delivery_date\n",
    "\n",
    "2. customers_dataset\n",
    "* customer_id\n",
    "* customer_unique_id\n",
    "* customer_zip_code_prefix\n",
    "* customer_city\n",
    "* customer_state\n",
    "\n",
    "3. order_payment_dataset\n",
    "* order_id\n",
    "* payment_sequential\n",
    "* payment_type\n",
    "* payment_installments\n",
    "* payment_value"
   ]
  },
  {
   "cell_type": "code",
   "execution_count": 1,
   "metadata": {},
   "outputs": [],
   "source": [
    "# import library\n",
    "import pandas as pd\n",
    "import numpy as np\n",
    "import matplotlib.pyplot as plt\n",
    "import seaborn as sns\n",
    "from datetime import datetime\n",
    "from datetime import timedelta\n",
    "from sklearn.cluster import KMeans"
   ]
  },
  {
   "cell_type": "code",
   "execution_count": null,
   "metadata": {},
   "outputs": [],
   "source": []
  }
 ],
 "metadata": {
  "kernelspec": {
   "display_name": "Python 3",
   "language": "python",
   "name": "python3"
  },
  "language_info": {
   "codemirror_mode": {
    "name": "ipython",
    "version": 3
   },
   "file_extension": ".py",
   "mimetype": "text/x-python",
   "name": "python",
   "nbconvert_exporter": "python",
   "pygments_lexer": "ipython3",
   "version": "3.11.2"
  }
 },
 "nbformat": 4,
 "nbformat_minor": 2
}
