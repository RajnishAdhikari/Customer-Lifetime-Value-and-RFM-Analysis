{
 "cells": [
  {
   "cell_type": "code",
   "execution_count": 1,
   "metadata": {},
   "outputs": [],
   "source": [
    "import numpy as np\n",
    "import datetime as dt\n",
    "import pandas as pd\n",
    "import matplotlib.pyplot as plt\n",
    "import seaborn as sns"
   ]
  },
  {
   "cell_type": "code",
   "execution_count": 3,
   "metadata": {},
   "outputs": [],
   "source": [
    "# Read excel file with sheet name\n",
    "dict_df = pd.read_excel('RFM_Dataset.xlsx', sheet_name= [\"Orders\", \"Return\",\"Segmentation\"])\n"
   ]
  },
  {
   "cell_type": "code",
   "execution_count": 4,
   "metadata": {},
   "outputs": [
    {
     "data": {
      "text/plain": [
       "{'Orders':       Row ID        Order ID Order Date  Ship Date       Ship Mode  \\\n",
       " 0        646  CA-2017-126221 2017-12-30 2018-01-05  Standard Class   \n",
       " 1        907  CA-2017-143259 2017-12-30 2018-01-03  Standard Class   \n",
       " 2        908  CA-2017-143259 2017-12-30 2018-01-03  Standard Class   \n",
       " 3        909  CA-2017-143259 2017-12-30 2018-01-03  Standard Class   \n",
       " 4       1297  CA-2017-115427 2017-12-30 2018-01-03  Standard Class   \n",
       " ...      ...             ...        ...        ...             ...   \n",
       " 9989    1760  CA-2014-141817 2014-01-05 2014-01-12  Standard Class   \n",
       " 9990     740  CA-2014-112326 2014-01-04 2014-01-08  Standard Class   \n",
       " 9991     741  CA-2014-112326 2014-01-04 2014-01-08  Standard Class   \n",
       " 9992     742  CA-2014-112326 2014-01-04 2014-01-08  Standard Class   \n",
       " 9993    7981  CA-2014-103800 2014-01-03 2014-01-07  Standard Class   \n",
       " \n",
       "      Customer ID      Channel  Postal Code       Product ID    Sales  \\\n",
       " 0       CC-12430  Home Office        47201  OFF-AP-10002457  209.300   \n",
       " 1       PO-18865     Consumer        10009  FUR-BO-10003441  323.136   \n",
       " 2       PO-18865     Consumer        10009  TEC-PH-10004774   90.930   \n",
       " 3       PO-18865     Consumer        10009  OFF-BI-10003684   52.776   \n",
       " 4       EB-13975    Corporate        94533  OFF-BI-10002103   13.904   \n",
       " ...          ...          ...          ...              ...      ...   \n",
       " 9989    MB-18085     Consumer        19143  OFF-AR-10003478   19.536   \n",
       " 9990    PO-19195  Home Office        60540  OFF-LA-10003223   11.784   \n",
       " 9991    PO-19195  Home Office        60540  OFF-ST-10002743  272.736   \n",
       " 9992    PO-19195  Home Office        60540  OFF-BI-10004094    3.540   \n",
       " 9993    DP-13000     Consumer        77095  OFF-PA-10000174   16.448   \n",
       " \n",
       "       Quantity  Unit Cost  \n",
       " 0            2    76.3945  \n",
       " 1            4    77.7546  \n",
       " 2            7    12.6003  \n",
       " 3            3    10.9950  \n",
       " 4            2     4.6926  \n",
       " ...        ...        ...  \n",
       " 9989         3     4.8840  \n",
       " 9990         3     2.5041  \n",
       " 9991         3   112.5036  \n",
       " 9992         2     4.5135  \n",
       " 9993         2     5.4484  \n",
       " \n",
       " [9994 rows x 12 columns],\n",
       " 'Return':     Returned        Order ID\n",
       " 0        Yes  CA-2017-153822\n",
       " 1        Yes  CA-2017-129707\n",
       " 2        Yes  CA-2014-152345\n",
       " 3        Yes  CA-2015-156440\n",
       " 4        Yes  US-2017-155999\n",
       " ..       ...             ...\n",
       " 291      Yes  CA-2015-101910\n",
       " 292      Yes  CA-2017-156958\n",
       " 293      Yes  CA-2016-105585\n",
       " 294      Yes  CA-2016-148796\n",
       " 295      Yes  CA-2015-149636\n",
       " \n",
       " [296 rows x 2 columns],\n",
       " 'Segmentation':                   Segment                                          RFM Score\n",
       " 0               Champions                  555, 554, 544, 545, 454, 455, 445\n",
       " 1                   Loyal             543, 444, 435, 355, 354, 345, 344, 335\n",
       " 2      Potential Loyalist  553, 551, 552, 541, 542, 533, 532, 531, 452, 4...\n",
       " 3           New Customers                  512, 511, 422, 421, 412, 411, 311\n",
       " 4               Promising  525, 524, 523, 522, 521, 515, 514, 513, 425,42...\n",
       " 5          Need Attention             535, 534, 443, 434, 343, 334, 325, 324\n",
       " 6          About To Sleep             331, 321, 312, 221, 213, 231, 241, 251\n",
       " 7                 At Risk  255, 254, 245, 244, 253, 252, 243, 242, 235, 2...\n",
       " 8        Cannot Lose Them               155, 154, 144, 214,215,115, 114, 113\n",
       " 9   Hibernating customers  332, 322, 233, 232, 223, 222, 132, 123, 122, 2...\n",
       " 10         Lost customers                         111, 112, 121, 131,141,151}"
      ]
     },
     "execution_count": 4,
     "metadata": {},
     "output_type": "execute_result"
    }
   ],
   "source": [
    "dict_df"
   ]
  },
  {
   "cell_type": "code",
   "execution_count": null,
   "metadata": {},
   "outputs": [],
   "source": []
  }
 ],
 "metadata": {
  "kernelspec": {
   "display_name": "Python 3",
   "language": "python",
   "name": "python3"
  },
  "language_info": {
   "codemirror_mode": {
    "name": "ipython",
    "version": 3
   },
   "file_extension": ".py",
   "mimetype": "text/x-python",
   "name": "python",
   "nbconvert_exporter": "python",
   "pygments_lexer": "ipython3",
   "version": "3.11.2"
  }
 },
 "nbformat": 4,
 "nbformat_minor": 2
}
